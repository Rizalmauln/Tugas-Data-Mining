{
  "nbformat": 4,
  "nbformat_minor": 0,
  "metadata": {
    "colab": {
      "provenance": []
    },
    "kernelspec": {
      "name": "python3",
      "display_name": "Python 3"
    },
    "language_info": {
      "name": "python"
    }
  },
  "cells": [
    {
      "cell_type": "markdown",
      "source": [
        "**Rizal Maulana Darmawan (4101422039)**\n"
      ],
      "metadata": {
        "id": "hxwAoYvv6yHK"
      }
    },
    {
      "cell_type": "markdown",
      "source": [
        "**UTS Data Mining**\n",
        "**Bagian B**"
      ],
      "metadata": {
        "id": "Xdud2Zpo67Vu"
      }
    },
    {
      "cell_type": "code",
      "execution_count": 37,
      "metadata": {
        "id": "QFsgRL276RMj"
      },
      "outputs": [],
      "source": [
        "import pandas as pd\n",
        "import matplotlib.pyplot as plt\n",
        "import seaborn as sns"
      ]
    },
    {
      "cell_type": "code",
      "source": [
        "df = pd.read_csv('Titanic-Dataset.csv')"
      ],
      "metadata": {
        "id": "pjLPFXe-7VDK"
      },
      "execution_count": 38,
      "outputs": []
    },
    {
      "cell_type": "markdown",
      "source": [
        "# **1. Eksplorasi Awal**"
      ],
      "metadata": {
        "id": "EFoyEAeTBbpc"
      }
    },
    {
      "cell_type": "markdown",
      "source": [
        "**a. Berapa jumlah total penumpang dalam data?**"
      ],
      "metadata": {
        "id": "niRfbtdWBgQi"
      }
    },
    {
      "cell_type": "code",
      "source": [
        "total_passengers = len(df)\n",
        "print(\"Jumlah total penumpang:\", total_passengers)"
      ],
      "metadata": {
        "colab": {
          "base_uri": "https://localhost:8080/"
        },
        "id": "VVSwzdHM7bSp",
        "outputId": "755ad2ee-fb12-46b3-82f2-6392fad30c21"
      },
      "execution_count": 39,
      "outputs": [
        {
          "output_type": "stream",
          "name": "stdout",
          "text": [
            "Jumlah total penumpang: 891\n"
          ]
        }
      ]
    },
    {
      "cell_type": "markdown",
      "source": [
        "Berdasarkan output di atas diperoleh informasi bahwa jumlah total penumpang kapal Titanic dalam dataset tersebut sebanyak 891 penumpang."
      ],
      "metadata": {
        "id": "oatz_dAyBs2c"
      }
    },
    {
      "cell_type": "markdown",
      "source": [
        "**b. Berapa jumlah penumpang yang selamat dan tidak selamat? Tampilkan dalam bentuk tabel dan grafik**"
      ],
      "metadata": {
        "id": "ou2TTxUICMs4"
      }
    },
    {
      "cell_type": "code",
      "source": [
        "survival_counts = df['Survived'].value_counts().rename(index={0: 'Tidak Selamat', 1: 'Selamat'})\n",
        "print(\"\\nJumlah penumpang selamat dan tidak selamat:\\n\", survival_counts)"
      ],
      "metadata": {
        "colab": {
          "base_uri": "https://localhost:8080/"
        },
        "id": "DN6JeLnJ7xdY",
        "outputId": "6bbf4ce5-d324-496c-9ffa-488a2e2e7983"
      },
      "execution_count": 40,
      "outputs": [
        {
          "output_type": "stream",
          "name": "stdout",
          "text": [
            "\n",
            "Jumlah penumpang selamat dan tidak selamat:\n",
            " Survived\n",
            "Tidak Selamat    549\n",
            "Selamat          342\n",
            "Name: count, dtype: int64\n"
          ]
        }
      ]
    },
    {
      "cell_type": "markdown",
      "source": [
        "Berdasarkan output di atas diperoleh informasi bahwa jumlah penumpang yang selamat sebanyak 342 penumpang dan yang tidak selamat sebanyak 549 penumpang."
      ],
      "metadata": {
        "id": "aSvKVQXWChKy"
      }
    },
    {
      "cell_type": "markdown",
      "source": [
        "Visualisasi menggunakan Bar Plot."
      ],
      "metadata": {
        "id": "BhZgUpETC7Nr"
      }
    },
    {
      "cell_type": "code",
      "source": [
        "plt.figure(figsize=(6,4))\n",
        "sns.countplot(data=df, x='Survived', palette='Set2')\n",
        "plt.xticks([0, 1], ['Tidak Selamat', 'Selamat'])\n",
        "plt.title(\"Jumlah Penumpang Selamat vs Tidak Selamat\")\n",
        "plt.ylabel(\"Jumlah\")\n",
        "plt.show()"
      ],
      "metadata": {
        "colab": {
          "base_uri": "https://localhost:8080/",
          "height": 500
        },
        "id": "ByQy30K873wX",
        "outputId": "e1efcbaf-42f0-44a0-b010-713e712eb673"
      },
      "execution_count": 41,
      "outputs": [
        {
          "output_type": "stream",
          "name": "stderr",
          "text": [
            "<ipython-input-41-e86c8ebbb40d>:2: FutureWarning: \n",
            "\n",
            "Passing `palette` without assigning `hue` is deprecated and will be removed in v0.14.0. Assign the `x` variable to `hue` and set `legend=False` for the same effect.\n",
            "\n",
            "  sns.countplot(data=df, x='Survived', palette='Set2')\n"
          ]
        },
        {
          "output_type": "display_data",
          "data": {
            "text/plain": [
              "<Figure size 600x400 with 1 Axes>"
            ],
            "image/png": "[encoded data removed]"
          },
          "metadata": {}
        }
      ]
    },
    {
      "cell_type": "markdown",
      "source": [
        "Visualisasi menggunakan Tabel."
      ],
      "metadata": {
        "id": "mm57MHwwDMBh"
      }
    },
    {
      "cell_type": "code",
      "source": [
        "survival_table = df['Survived'].value_counts().rename(index={0: 'Tidak Selamat', 1: 'Selamat'}).to_frame()\n",
        "survival_table.columns = ['Jumlah Penumpang']\n",
        "print(survival_table)"
      ],
      "metadata": {
        "colab": {
          "base_uri": "https://localhost:8080/"
        },
        "id": "WFTG9e3N90jn",
        "outputId": "1f0cc6ac-2145-4c9f-eda2-ac3678a74711"
      },
      "execution_count": 42,
      "outputs": [
        {
          "output_type": "stream",
          "name": "stdout",
          "text": [
            "               Jumlah Penumpang\n",
            "Survived                       \n",
            "Tidak Selamat               549\n",
            "Selamat                     342\n"
          ]
        }
      ]
    },
    {
      "cell_type": "code",
      "source": [
        "from tabulate import tabulate\n",
        "print(tabulate(survival_table, headers='keys', tablefmt='pretty'))"
      ],
      "metadata": {
        "colab": {
          "base_uri": "https://localhost:8080/"
        },
        "id": "LbO54oQI-WCT",
        "outputId": "89ec30ce-d8bf-4b63-c5be-131c4d6b0a3f"
      },
      "execution_count": 43,
      "outputs": [
        {
          "output_type": "stream",
          "name": "stdout",
          "text": [
            "+---------------+------------------+\n",
            "|   Survived    | Jumlah Penumpang |\n",
            "+---------------+------------------+\n",
            "| Tidak Selamat |       549        |\n",
            "|    Selamat    |       342        |\n",
            "+---------------+------------------+\n"
          ]
        }
      ]
    },
    {
      "cell_type": "markdown",
      "source": [
        "**c. Berapa rata-rata umur penumpang? dan siapa penumpang termuda dan tertua?**"
      ],
      "metadata": {
        "id": "1S7LYfD-DSjP"
      }
    },
    {
      "cell_type": "code",
      "source": [
        "mean_age = df['Age'].mean()\n",
        "youngest = df['Age'].min()\n",
        "oldest = df['Age'].max()\n",
        "youngest_passenger = df[df['Age'] == youngest][['Name', 'Age']]\n",
        "oldest_passenger = df[df['Age'] == oldest][['Name', 'Age']]\n",
        "print(\"\\nRata-rata umur penumpang:\", round(mean_age, 2))\n",
        "print(\"\\nPenumpang termuda:\\n\", youngest_passenger)\n",
        "print(\"\\nPenumpang tertua:\\n\", oldest_passenger)"
      ],
      "metadata": {
        "colab": {
          "base_uri": "https://localhost:8080/"
        },
        "id": "yiM_Tsol8NvY",
        "outputId": "a211d012-3de2-455b-c6d2-7a5787529cd4"
      },
      "execution_count": 44,
      "outputs": [
        {
          "output_type": "stream",
          "name": "stdout",
          "text": [
            "\n",
            "Rata-rata umur penumpang: 29.7\n",
            "\n",
            "Penumpang termuda:\n",
            "                                 Name   Age\n",
            "803  Thomas, Master. Assad Alexander  0.42\n",
            "\n",
            "Penumpang tertua:\n",
            "                                      Name   Age\n",
            "630  Barkworth, Mr. Algernon Henry Wilson  80.0\n"
          ]
        }
      ]
    },
    {
      "cell_type": "markdown",
      "source": [
        "Berdasarkan output di atas diperoleh informasi bahwa rata-rata umur penumpang adalah 29,7 tahun dan penumpang termuda adalah Thomas, Master. Assad Alexander yang berumur 0,42 tahun dan penumpang tertua yaitu Barkworth, Mr. Algernon Henry Wilson yang berumur 80 tahun."
      ],
      "metadata": {
        "id": "uXYdZR72DgrM"
      }
    },
    {
      "cell_type": "markdown",
      "source": [
        "**d. Berapa jumlah penumpang berdasarkan jenis kelamin? Siapa yang lebih banyak? Visualisasikan**"
      ],
      "metadata": {
        "id": "ShSbOf_wG19h"
      }
    },
    {
      "cell_type": "code",
      "source": [
        "gender_counts = df['Sex'].value_counts()\n",
        "print(\"\\nJumlah penumpang berdasarkan jenis kelamin:\\n\", gender_counts)"
      ],
      "metadata": {
        "colab": {
          "base_uri": "https://localhost:8080/"
        },
        "id": "Za9cW4qF8YZU",
        "outputId": "7bf8bd0f-06e7-4f07-8726-6e15938c5518"
      },
      "execution_count": 45,
      "outputs": [
        {
          "output_type": "stream",
          "name": "stdout",
          "text": [
            "\n",
            "Jumlah penumpang berdasarkan jenis kelamin:\n",
            " Sex\n",
            "male      577\n",
            "female    314\n",
            "Name: count, dtype: int64\n"
          ]
        }
      ]
    },
    {
      "cell_type": "markdown",
      "source": [
        "Berdasarkan output di atas diperoleh informasi bahwa jumlah penumpang berjenis kelamin laki-laki sebanyak 577 penumpang, sedangkan jumlah penumpang berjenis kelamin perempuan sebanyak 314.\n",
        "\n",
        "Jadi yang lebih banyak adalah penumpang laki-laki dengan total 577 penumpang."
      ],
      "metadata": {
        "id": "cxj-s8D3HEut"
      }
    },
    {
      "cell_type": "markdown",
      "source": [
        "Visualisasi menggunakan Bar Plot."
      ],
      "metadata": {
        "id": "aCMdZgoLHubQ"
      }
    },
    {
      "cell_type": "code",
      "source": [
        "plt.figure(figsize=(6,4))\n",
        "sns.countplot(data=df, x='Sex', palette='pastel')\n",
        "plt.title(\"Jumlah Penumpang berdasarkan Jenis Kelamin\")\n",
        "plt.ylabel(\"Jumlah\")\n",
        "plt.show()"
      ],
      "metadata": {
        "colab": {
          "base_uri": "https://localhost:8080/",
          "height": 500
        },
        "id": "4E5YTzBq8fBy",
        "outputId": "6e68470b-6b3f-4a25-a34f-b8ab9828947c"
      },
      "execution_count": 46,
      "outputs": [
        {
          "output_type": "stream",
          "name": "stderr",
          "text": [
            "<ipython-input-46-92a5d86f3427>:2: FutureWarning: \n",
            "\n",
            "Passing `palette` without assigning `hue` is deprecated and will be removed in v0.14.0. Assign the `x` variable to `hue` and set `legend=False` for the same effect.\n",
            "\n",
            "  sns.countplot(data=df, x='Sex', palette='pastel')\n"
          ]
        },
        {
          "output_type": "display_data",
          "data": {
            "text/plain": [
              "<Figure size 600x400 with 1 Axes>"
            ],
            "image/png": "[encoded data removed]"
          },
          "metadata": {}
        }
      ]
    },
    {
      "cell_type": "markdown",
      "source": [
        "Visualisasi menggunakan Pie Chart."
      ],
      "metadata": {
        "id": "a6lBQk2CH1VG"
      }
    },
    {
      "cell_type": "code",
      "source": [
        "gender_counts = df['Sex'].value_counts()\n",
        "plt.figure(figsize=(6,6))\n",
        "plt.pie(gender_counts, labels=['Laki-laki', 'Perempuan'], autopct='%1.1f%%', colors=['#66b3ff','#ff9999'], startangle=140)\n",
        "plt.title('Persentase Penumpang Berdasarkan Jenis Kelamin')\n",
        "plt.axis('equal')  # Membuat pie jadi bulat\n",
        "plt.show()"
      ],
      "metadata": {
        "colab": {
          "base_uri": "https://localhost:8080/",
          "height": 523
        },
        "id": "nq-r7A_0AThK",
        "outputId": "c87287a5-b21c-4d1f-c387-4a11ab85409e"
      },
      "execution_count": 47,
      "outputs": [
        {
          "output_type": "display_data",
          "data": {
            "text/plain": [
              "<Figure size 600x600 with 1 Axes>"
            ],
            "image/png": "[encoded data removed]"
          },
          "metadata": {}
        }
      ]
    },
    {
      "cell_type": "markdown",
      "source": [
        "**e. Tampilkan jumlah penumpang berdasarkan kelas (Pclass) dan berapa persen dari total data yang berada di kelas 1? Visualisasikan**"
      ],
      "metadata": {
        "id": "pyplWWvXIbPJ"
      }
    },
    {
      "cell_type": "code",
      "source": [
        "pclass_counts = df['Pclass'].value_counts().sort_index()\n",
        "pclass_percentage = (pclass_counts[1] / total_passengers) * 100\n",
        "print(\"\\nJumlah penumpang berdasarkan kelas:\\n\", pclass_counts)\n",
        "print(f\"\\nPersentase penumpang di kelas 1: {pclass_percentage:.2f}%\")"
      ],
      "metadata": {
        "colab": {
          "base_uri": "https://localhost:8080/"
        },
        "id": "GJ4rqTjI8kp-",
        "outputId": "1aecd250-2bc5-464a-be9f-215ef3a5b687"
      },
      "execution_count": 48,
      "outputs": [
        {
          "output_type": "stream",
          "name": "stdout",
          "text": [
            "\n",
            "Jumlah penumpang berdasarkan kelas:\n",
            " Pclass\n",
            "1    216\n",
            "2    184\n",
            "3    491\n",
            "Name: count, dtype: int64\n",
            "\n",
            "Persentase penumpang di kelas 1: 24.24%\n"
          ]
        }
      ]
    },
    {
      "cell_type": "markdown",
      "source": [
        "Berdasarkan output di atas diperoleh informasi bahwa jumlah penumpang yang berada pada kelas 1 sebanyak 216 penumpang, kelas 2 sebanyak 184 penumpang, dan kelas 3 sebanyak 491 penumpang, sehingga persentase penumpang yang berada di kelas 1 mencapai 24.24% dari total data yang ada."
      ],
      "metadata": {
        "id": "dVRS4LrqIqmM"
      }
    },
    {
      "cell_type": "markdown",
      "source": [
        "Visualisasi menggunakan Bar Plot."
      ],
      "metadata": {
        "id": "QfH6daPQKHzp"
      }
    },
    {
      "cell_type": "code",
      "source": [
        "plt.figure(figsize=(6,4))\n",
        "sns.countplot(data=df, x='Pclass', palette='muted')\n",
        "plt.title(\"Jumlah Penumpang berdasarkan Kelas (Pclass)\")\n",
        "plt.ylabel(\"Jumlah\")\n",
        "plt.xlabel(\"Kelas\")\n",
        "plt.show()"
      ],
      "metadata": {
        "colab": {
          "base_uri": "https://localhost:8080/",
          "height": 500
        },
        "id": "L2nixQ308qLE",
        "outputId": "6cb23494-0d81-44b9-9414-46cb0bfc093b"
      },
      "execution_count": 49,
      "outputs": [
        {
          "output_type": "stream",
          "name": "stderr",
          "text": [
            "<ipython-input-49-fb4b569f9f35>:2: FutureWarning: \n",
            "\n",
            "Passing `palette` without assigning `hue` is deprecated and will be removed in v0.14.0. Assign the `x` variable to `hue` and set `legend=False` for the same effect.\n",
            "\n",
            "  sns.countplot(data=df, x='Pclass', palette='muted')\n"
          ]
        },
        {
          "output_type": "display_data",
          "data": {
            "text/plain": [
              "<Figure size 600x400 with 1 Axes>"
            ],
            "image/png": "[encoded data removed]"
          },
          "metadata": {}
        }
      ]
    },
    {
      "cell_type": "markdown",
      "source": [
        "Visualisasi menggunakan Pie Chart."
      ],
      "metadata": {
        "id": "c6os8yr2KMDv"
      }
    },
    {
      "cell_type": "code",
      "source": [
        "pclass_counts = df['Pclass'].value_counts()\n",
        "plt.figure(figsize=(6,6))\n",
        "plt.pie(pclass_counts, labels=['Kelas 3', 'Kelas 1', 'Kelas 2'], autopct='%1.1f%%', startangle=140, colors=['#66b3ff','#99ff99','#ffcc99'])\n",
        "plt.title('Persentase Penumpang berdasarkan Kelas')\n",
        "plt.show()"
      ],
      "metadata": {
        "colab": {
          "base_uri": "https://localhost:8080/",
          "height": 521
        },
        "id": "x6MYQ2Ko86ot",
        "outputId": "236e3782-351f-4ea8-d19a-24e62314f13a"
      },
      "execution_count": 50,
      "outputs": [
        {
          "output_type": "display_data",
          "data": {
            "text/plain": [
              "<Figure size 600x600 with 1 Axes>"
            ],
            "image/png": "[encoded data removed]"
          },
          "metadata": {}
        }
      ]
    },
    {
      "cell_type": "markdown",
      "source": [
        "# **2. Preprocessing**"
      ],
      "metadata": {
        "id": "3RBd3nhrBZjv"
      }
    },
    {
      "cell_type": "markdown",
      "source": [
        "**a. Apakah terdapat missing value pada data tersebut?**"
      ],
      "metadata": {
        "id": "-mOpHlBVoAib"
      }
    },
    {
      "cell_type": "code",
      "source": [
        "missing_values = df.isnull().sum()\n",
        "print(missing_values)"
      ],
      "metadata": {
        "id": "v2Wzsz_SKck4",
        "colab": {
          "base_uri": "https://localhost:8080/"
        },
        "outputId": "1f4ff968-64c5-4c40-8846-17acafea735a"
      },
      "execution_count": 51,
      "outputs": [
        {
          "output_type": "stream",
          "name": "stdout",
          "text": [
            "PassengerId      0\n",
            "Survived         0\n",
            "Pclass           0\n",
            "Name             0\n",
            "Sex              0\n",
            "Age            177\n",
            "SibSp            0\n",
            "Parch            0\n",
            "Ticket           0\n",
            "Fare             0\n",
            "Cabin          687\n",
            "Embarked         2\n",
            "dtype: int64\n"
          ]
        }
      ]
    },
    {
      "cell_type": "code",
      "source": [
        "missing_values = df.isnull().sum()\n",
        "missing_values = missing_values[missing_values > 0]\n",
        "print(missing_values)"
      ],
      "metadata": {
        "colab": {
          "base_uri": "https://localhost:8080/"
        },
        "id": "EZdTkvccjSIp",
        "outputId": "eb18ac7c-621e-4a07-ff1c-14e5d679fd4b"
      },
      "execution_count": 52,
      "outputs": [
        {
          "output_type": "stream",
          "name": "stdout",
          "text": [
            "Age         177\n",
            "Cabin       687\n",
            "Embarked      2\n",
            "dtype: int64\n"
          ]
        }
      ]
    },
    {
      "cell_type": "markdown",
      "source": [
        "Ya, terdapat missing value pada kolom Age sebanyak 177 missing value, kolom Cabin sebanyak 687 missing value, kolom Embarked sebanyak 2 missing value."
      ],
      "metadata": {
        "id": "if_eYOXRoKc8"
      }
    },
    {
      "cell_type": "markdown",
      "source": [
        "**b. Jika ya, apa yang anda lakukan?**"
      ],
      "metadata": {
        "id": "MsPmO7zTotYq"
      }
    },
    {
      "cell_type": "markdown",
      "source": [
        "Untuk kolom Age, nilai yang hilang dapat diisi dengan nilai median dari kolom tersebut. Hal ini dilakukan karena data umur cenderung memiliki distribusi yang tidak simetris (skewed), sehingga median lebih representatif dibandingkan rata-rata.\n",
        "\n",
        "Untuk kolom Embarked, nilai yang hilang dapat diisi menggunakan modus (nilai yang paling sering muncul) karena Embarked merupakan data kategorikal, dan pendekatan ini akan mempertahankan distribusi data asli.\n",
        "\n",
        "Untuk kolom Cabin, karena proporsi nilai yang hilang sangat besar, maka lebih baik menghapus kolom tersebut. Kehilangan informasi dari kolom ini dianggap tidak akan berdampak signifikan terhadap hasil analisis.\n",
        "\n",
        "Langkah-langkah ini bertujuan untuk mengatasi masalah missing value tanpa mengurangi kualitas data secara keseluruhan, serta menjaga agar dataset tetap konsisten untuk proses analisis dan pemodelan berikutnya."
      ],
      "metadata": {
        "id": "XwC2QpQbo9FU"
      }
    },
    {
      "cell_type": "code",
      "source": [
        "# Mengisi Age yang kosong dengan median\n",
        "df['Age'].fillna(df['Age'].median(), inplace=True)\n",
        "\n",
        "# Mengisi Embarked yang kosong dengan mode\n",
        "df['Embarked'].fillna(df['Embarked'].mode()[0], inplace=True)\n",
        "\n",
        "# Karena Cabin terlalu banyak kosong, bisa dihapus\n",
        "df.drop(columns=['Cabin'], inplace=True)"
      ],
      "metadata": {
        "colab": {
          "base_uri": "https://localhost:8080/"
        },
        "id": "_wpUxA6ej4aa",
        "outputId": "0d893dd0-783d-429c-aa75-0cb7db39e3c5"
      },
      "execution_count": 53,
      "outputs": [
        {
          "output_type": "stream",
          "name": "stderr",
          "text": [
            "<ipython-input-53-e8c26a10fab5>:2: FutureWarning: A value is trying to be set on a copy of a DataFrame or Series through chained assignment using an inplace method.\n",
            "The behavior will change in pandas 3.0. This inplace method will never work because the intermediate object on which we are setting values always behaves as a copy.\n",
            "\n",
            "For example, when doing 'df[col].method(value, inplace=True)', try using 'df.method({col: value}, inplace=True)' or df[col] = df[col].method(value) instead, to perform the operation inplace on the original object.\n",
            "\n",
            "\n",
            "  df['Age'].fillna(df['Age'].median(), inplace=True)\n",
            "<ipython-input-53-e8c26a10fab5>:5: FutureWarning: A value is trying to be set on a copy of a DataFrame or Series through chained assignment using an inplace method.\n",
            "The behavior will change in pandas 3.0. This inplace method will never work because the intermediate object on which we are setting values always behaves as a copy.\n",
            "\n",
            "For example, when doing 'df[col].method(value, inplace=True)', try using 'df.method({col: value}, inplace=True)' or df[col] = df[col].method(value) instead, to perform the operation inplace on the original object.\n",
            "\n",
            "\n",
            "  df['Embarked'].fillna(df['Embarked'].mode()[0], inplace=True)\n"
          ]
        }
      ]
    },
    {
      "cell_type": "code",
      "source": [
        "missing_values = df.isnull().sum()\n",
        "print(missing_values)"
      ],
      "metadata": {
        "colab": {
          "base_uri": "https://localhost:8080/"
        },
        "id": "LRZdwKxLkXbP",
        "outputId": "449d73fe-c839-485b-b171-8fe11bcaf41c"
      },
      "execution_count": 54,
      "outputs": [
        {
          "output_type": "stream",
          "name": "stdout",
          "text": [
            "PassengerId    0\n",
            "Survived       0\n",
            "Pclass         0\n",
            "Name           0\n",
            "Sex            0\n",
            "Age            0\n",
            "SibSp          0\n",
            "Parch          0\n",
            "Ticket         0\n",
            "Fare           0\n",
            "Embarked       0\n",
            "dtype: int64\n"
          ]
        }
      ]
    },
    {
      "cell_type": "markdown",
      "source": [
        "**c. Apakah terdapat outlier pada data tersebut? Jelaskan apa itu outlier!**"
      ],
      "metadata": {
        "id": "yJt8BvT1ph4m"
      }
    },
    {
      "cell_type": "code",
      "source": [
        "plt.figure(figsize=(12,5))\n",
        "\n",
        "plt.subplot(1,2,1)\n",
        "sns.boxplot(data=df, y='Fare')\n",
        "plt.title('Boxplot Fare')\n",
        "\n",
        "plt.subplot(1,2,2)\n",
        "sns.boxplot(data=df, y='Age')\n",
        "plt.title('Boxplot Age')\n",
        "\n",
        "plt.show()"
      ],
      "metadata": {
        "colab": {
          "base_uri": "https://localhost:8080/",
          "height": 449
        },
        "id": "5N23bbuYkO3a",
        "outputId": "5e84a1f9-6882-4c2f-9b54-dfbaaea97153"
      },
      "execution_count": 55,
      "outputs": [
        {
          "output_type": "display_data",
          "data": {
            "text/plain": [
              "<Figure size 1200x500 with 2 Axes>"
            ],
            "image/png": "[encoded data removed]"
          },
          "metadata": {}
        }
      ]
    },
    {
      "cell_type": "code",
      "source": [
        "num_cols = ['Fare', 'Age']\n",
        "\n",
        "def detect_outliers_iqr(data, column):\n",
        "    Q1 = data[column].quantile(0.25)\n",
        "    Q3 = data[column].quantile(0.75)\n",
        "    IQR = Q3 - Q1\n",
        "    lower_bound = Q1 - 1.5 * IQR\n",
        "    upper_bound = Q3 + 1.5 * IQR\n",
        "    return data[(data[column] < lower_bound) | (data[column] > upper_bound)]\n",
        "\n",
        "for col in num_cols:\n",
        "    outliers = detect_outliers_iqr(df, col)\n",
        "    print(f\"{col}: {len(outliers)} outliers\")"
      ],
      "metadata": {
        "colab": {
          "base_uri": "https://localhost:8080/"
        },
        "id": "UgDDHprkki4M",
        "outputId": "da7d142f-f819-409b-bc5f-9ed042b1e1a9"
      },
      "execution_count": 56,
      "outputs": [
        {
          "output_type": "stream",
          "name": "stdout",
          "text": [
            "Fare: 116 outliers\n",
            "Age: 66 outliers\n"
          ]
        }
      ]
    },
    {
      "cell_type": "markdown",
      "source": [
        "Ya, terdapat outlier pada kolom Fare sebanyak 116 outliers dan Age sebanyak 66 outliers."
      ],
      "metadata": {
        "id": "uhFnp3lcqIjN"
      }
    },
    {
      "cell_type": "markdown",
      "source": [
        "Outlier adalah data yang menyimpang jauh dari kebanyakan data lain dengan kata lain outlier adalah data yang sangat kecil atau sangat besar dibandingkan data umumnya."
      ],
      "metadata": {
        "id": "R2lxrVWXqUc7"
      }
    },
    {
      "cell_type": "markdown",
      "source": [
        "**d. Apakah outlier perlu diatasi? Bagaimana caranya?**"
      ],
      "metadata": {
        "id": "Pg28Cu5lqZXP"
      }
    },
    {
      "cell_type": "markdown",
      "source": [
        "Outlier perlu dipertimbangkan untuk diatasi tergantung pada tujuan analisis atau model yang akan dibangun.\n",
        "Jika outlier dibiarkan, terutama pada algoritma yang sensitif terhadap skala data seperti regresi linear atau K-Nearest Neighbors (KNN), maka outlier dapat mempengaruhi hasil model secara signifikan, menyebabkan ketidakakuratan prediksi dan bias pada parameter model."
      ],
      "metadata": {
        "id": "Wvbo6ApdrhsR"
      }
    },
    {
      "cell_type": "markdown",
      "source": [
        "Beberapa metode yang dapat dilakukan untuk mengatasi outlier antara lain:\n",
        "\n",
        "1. Menghapus data yang terdeteksi sebagai outlier, khususnya jika jumlahnya sangat kecil dan tidak memiliki makna penting terhadap analisis.\n",
        "\n",
        "2. Capping (Winsorizing) yaitu Mengubah nilai outlier menjadi batas tertentu, misalnya menggantikan nilai di atas persentil ke-99 dengan nilai persentil ke-99 itu sendiri.\n",
        "\n",
        "3. Melakukan transformasi logaritmik, akar kuadrat, atau Box-Cox untuk mengurangi efek ekstrem dari outlier, terutama pada data yang sangat skewed.\n",
        "\n",
        "4. Jika outlier mewakili kelompok khusus (misalnya penumpang VIP dengan tiket sangat mahal), data tersebut dapat diperlakukan secara terpisah dalam analisis."
      ],
      "metadata": {
        "id": "jgVaGh7xrpJ0"
      }
    },
    {
      "cell_type": "markdown",
      "source": [
        "Menangani outliers dengan Winsorize IQR"
      ],
      "metadata": {
        "id": "6wTB4HP_r4Dm"
      }
    },
    {
      "cell_type": "code",
      "source": [
        "import numpy as np\n",
        "\n",
        "def winsorize_iqr(data, column):\n",
        "    Q1 = data[column].quantile(0.25)\n",
        "    Q3 = data[column].quantile(0.75)\n",
        "    IQR = Q3 - Q1\n",
        "    lower_bound = Q1 - 1.5 * IQR\n",
        "    upper_bound = Q3 + 1.5 * IQR\n",
        "    data[column] = np.where(data[column] < lower_bound, lower_bound, data[column])\n",
        "    data[column] = np.where(data[column] > upper_bound, upper_bound, data[column])\n",
        "\n",
        "num_cols = ['Fare', 'Age']\n",
        "for col in num_cols:\n",
        "    winsorize_iqr(df, col)"
      ],
      "metadata": {
        "id": "L2D-qdmKl58M"
      },
      "execution_count": 57,
      "outputs": []
    },
    {
      "cell_type": "code",
      "source": [
        "plt.figure(figsize=(12,5))\n",
        "\n",
        "plt.subplot(1,2,1)\n",
        "sns.boxplot(data=df, y='Fare')\n",
        "plt.title('Boxplot Fare')\n",
        "\n",
        "plt.subplot(1,2,2)\n",
        "sns.boxplot(data=df, y='Age')\n",
        "plt.title('Boxplot Age')\n",
        "\n",
        "plt.show()"
      ],
      "metadata": {
        "colab": {
          "base_uri": "https://localhost:8080/",
          "height": 452
        },
        "id": "qq2yCv-ympHz",
        "outputId": "693aaca0-bfd7-42dd-f244-f22e242beb23"
      },
      "execution_count": 58,
      "outputs": [
        {
          "output_type": "display_data",
          "data": {
            "text/plain": [
              "<Figure size 1200x500 with 2 Axes>"
            ],
            "image/png": "[encoded data removed]"
          },
          "metadata": {}
        }
      ]
    },
    {
      "cell_type": "markdown",
      "source": [
        "**e. Jika dibutuhkan, lakukan transformasi/standarisasi/scaling terhadap data**"
      ],
      "metadata": {
        "id": "BT_SnALPsad7"
      }
    },
    {
      "cell_type": "markdown",
      "source": [
        "Melakukan encoding data Sex dengan metode label encoding"
      ],
      "metadata": {
        "id": "bRgvJr4VsscO"
      }
    },
    {
      "cell_type": "code",
      "source": [
        "df['Sex'].unique()"
      ],
      "metadata": {
        "colab": {
          "base_uri": "https://localhost:8080/"
        },
        "id": "3-fnksaYnRJj",
        "outputId": "9df6f091-4386-4b6d-c1e5-6092aef3d420"
      },
      "execution_count": 59,
      "outputs": [
        {
          "output_type": "execute_result",
          "data": {
            "text/plain": [
              "array(['male', 'female'], dtype=object)"
            ]
          },
          "metadata": {},
          "execution_count": 59
        }
      ]
    },
    {
      "cell_type": "code",
      "source": [
        "from sklearn.preprocessing import LabelEncoder\n",
        "encoder = LabelEncoder()\n",
        "df['Sex'] = encoder.fit_transform(df['Sex'])\n",
        "print(df['Sex'])"
      ],
      "metadata": {
        "colab": {
          "base_uri": "https://localhost:8080/"
        },
        "id": "4VoMilHDnbJu",
        "outputId": "66895158-91a9-4547-b304-8ec330086e2f"
      },
      "execution_count": 60,
      "outputs": [
        {
          "output_type": "stream",
          "name": "stdout",
          "text": [
            "0      1\n",
            "1      0\n",
            "2      0\n",
            "3      0\n",
            "4      1\n",
            "      ..\n",
            "886    1\n",
            "887    0\n",
            "888    0\n",
            "889    1\n",
            "890    1\n",
            "Name: Sex, Length: 891, dtype: int64\n"
          ]
        }
      ]
    },
    {
      "cell_type": "markdown",
      "source": [
        "Melakukan scalling pada data Fare dan Age dengan metode Standard Scaler"
      ],
      "metadata": {
        "id": "Vza-ZtKps0zl"
      }
    },
    {
      "cell_type": "code",
      "source": [
        "from sklearn.preprocessing import StandardScaler\n",
        "scaler = StandardScaler()\n",
        "df[['Age', 'Fare']] = scaler.fit_transform(df[['Age', 'Fare']])\n",
        "print(df[['Age', 'Fare']].head())"
      ],
      "metadata": {
        "colab": {
          "base_uri": "https://localhost:8080/"
        },
        "id": "Jd6cGU4dnoDJ",
        "outputId": "4cbfd496-6a26-44d3-db4a-35852ac53279"
      },
      "execution_count": 61,
      "outputs": [
        {
          "output_type": "stream",
          "name": "stdout",
          "text": [
            "        Age      Fare\n",
            "0 -0.583432 -0.820552\n",
            "1  0.742685  2.031623\n",
            "2 -0.251903 -0.787578\n",
            "3  0.494038  1.419297\n",
            "4  0.494038 -0.781471\n"
          ]
        }
      ]
    },
    {
      "cell_type": "markdown",
      "source": [
        "# **3. Modelling**"
      ],
      "metadata": {
        "id": "Z1YMDTeln8uP"
      }
    },
    {
      "cell_type": "markdown",
      "source": [
        "**a. Jelaskan proses pembagian data menjadi data training dan testing dan alasan mengapa perlu membagi data tersebut**"
      ],
      "metadata": {
        "id": "aCyck_QBv5qA"
      }
    },
    {
      "cell_type": "markdown",
      "source": [
        "Proses pembagian data menjadi data training dan testing dilakukan untuk memisahkan data yang akan digunakan untuk melatih model (training) dan data yang akan digunakan untuk mengukur performa model (testing).\n",
        "\n",
        "Alasan perlunya pembagian ini adalah:\n",
        "\n",
        "1. Untuk menghindari overfitting, yaitu kondisi di mana model sangat baik pada data latih tetapi buruk dalam memprediksi data baru.\n",
        "\n",
        "2. Untuk menilai generalisasi model, yakni seberapa baik model dapat bekerja terhadap data yang belum pernah dilihat sebelumnya."
      ],
      "metadata": {
        "id": "Q8wZNht2v3kc"
      }
    },
    {
      "cell_type": "code",
      "source": [
        "from sklearn.model_selection import train_test_split\n",
        "\n",
        "features = ['Pclass', 'Sex', 'Age', 'SibSp', 'Parch', 'Fare', 'Embarked']\n",
        "X = df[features]\n",
        "\n",
        "X = pd.get_dummies(X, columns=['Sex', 'Embarked'], drop_first=True)\n",
        "y = df['Survived']\n",
        "\n",
        "X_train, X_test, y_train, y_test = train_test_split(X, y, test_size=0.2, random_state=42)"
      ],
      "metadata": {
        "id": "dIEHYD9OtOVj"
      },
      "execution_count": 65,
      "outputs": []
    },
    {
      "cell_type": "markdown",
      "source": [
        "**b. Berapa persen pembagiannya? Mengapa memilih proporsi tersebut?**"
      ],
      "metadata": {
        "id": "bqlibKzfwElt"
      }
    },
    {
      "cell_type": "markdown",
      "source": [
        "Umumnya, data dibagi dengan proporsi:\n",
        "\n",
        "80% data latih (training)\n",
        "\n",
        "20% data uji (testing)\n",
        "\n",
        "Proporsi ini dipilih karena:\n",
        "\n",
        "1. Data latih yang lebih besar memungkinkan model belajar pola lebih baik.\n",
        "\n",
        "2. Data uji yang cukup besar (20%) masih cukup representatif untuk mengukur performa model secara adil.\n",
        "\n",
        "Pada dataset kecil seperti Titanic, proporsi ini cukup ideal untuk mendapatkan keseimbangan antara proses pelatihan dan evaluasi."
      ],
      "metadata": {
        "id": "dkYg4fGqwOys"
      }
    },
    {
      "cell_type": "markdown",
      "source": [
        "**c. Buatlah model klasifikasi dari 3 algoritma yang berbeda. Jelaskan masing-masing model dan cara kerjanya**"
      ],
      "metadata": {
        "id": "uhvCgMUrwpTY"
      }
    },
    {
      "cell_type": "markdown",
      "source": [
        "Tiga algoritma yang digunakan:\n",
        "\n",
        "1. Logistic Regression\n",
        "Logistic Regression adalah algoritma klasifikasi yang memodelkan probabilitas kejadian suatu peristiwa dengan menggunakan fungsi logit (sigmoid). Hasilnya berupa nilai probabilitas yang diklasifikasikan ke dalam kelas tertentu (0 atau 1).\n",
        "\n",
        "2. Decision Tree\n",
        "Decision Tree membagi data ke dalam cabang-cabang berdasarkan fitur tertentu yang memaksimalkan informasi atau meminimalkan impurity (misalnya menggunakan Gini Impurity atau Entropy). Hasilnya berupa pohon keputusan yang bisa ditelusuri dari akar ke daun.\n",
        "\n",
        "3. Random Forest\n",
        "Random Forest adalah ensemble dari banyak Decision Tree. Setiap pohon dilatih dengan subset data berbeda, dan hasil akhirnya ditentukan berdasarkan voting mayoritas dari semua pohon. Metode ini biasanya lebih stabil dan akurat dibanding satu Decision Tree."
      ],
      "metadata": {
        "id": "YipUbkpMwuBE"
      }
    },
    {
      "cell_type": "markdown",
      "source": [
        "Membuat ke-3 Model"
      ],
      "metadata": {
        "id": "ffaeUWrjw35E"
      }
    },
    {
      "cell_type": "code",
      "source": [
        "from sklearn.linear_model import LogisticRegression\n",
        "from sklearn.tree import DecisionTreeClassifier\n",
        "from sklearn.ensemble import RandomForestClassifier\n",
        "\n",
        "# Membuat objek model\n",
        "log_reg = LogisticRegression(max_iter=1000)\n",
        "tree = DecisionTreeClassifier(random_state=42)\n",
        "forest = RandomForestClassifier(n_estimators=100, random_state=42)\n",
        "\n",
        "# Melatih model\n",
        "log_reg.fit(X_train, y_train)\n",
        "tree.fit(X_train, y_train)\n",
        "forest.fit(X_train, y_train)\n"
      ],
      "metadata": {
        "colab": {
          "base_uri": "https://localhost:8080/",
          "height": 80
        },
        "id": "CK8kDQqgugby",
        "outputId": "ba879404-d7d4-48ba-9ed9-5a277f0478f5"
      },
      "execution_count": 66,
      "outputs": [
        {
          "output_type": "execute_result",
          "data": {
            "text/plain": [
              "RandomForestClassifier(random_state=42)"
            ],
            "text/html": [
              "<style>#sk-container-id-1 {\n",
              "  /* Definition of color scheme common for light and dark mode */\n",
              "  --sklearn-color-text: #000;\n",
              "  --sklearn-color-text-muted: #666;\n",
              "  --sklearn-color-line: gray;\n",
              "  /* Definition of color scheme for unfitted estimators */\n",
              "  --sklearn-color-unfitted-level-0: #fff5e6;\n",
              "  --sklearn-color-unfitted-level-1: #f6e4d2;\n",
              "  --sklearn-color-unfitted-level-2: #ffe0b3;\n",
              "  --sklearn-color-unfitted-level-3: chocolate;\n",
              "  /* Definition of color scheme for fitted estimators */\n",
              "  --sklearn-color-fitted-level-0: #f0f8ff;\n",
              "  --sklearn-color-fitted-level-1: #d4ebff;\n",
              "  --sklearn-color-fitted-level-2: #b3dbfd;\n",
              "  --sklearn-color-fitted-level-3: cornflowerblue;\n",
              "\n",
              "  /* Specific color for light theme */\n",
              "  --sklearn-color-text-on-default-background: var(--sg-text-color, var(--theme-code-foreground, var(--jp-content-font-color1, black)));\n",
              "  --sklearn-color-background: var(--sg-background-color, var(--theme-background, var(--jp-layout-color0, white)));\n",
              "  --sklearn-color-border-box: var(--sg-text-color, var(--theme-code-foreground, var(--jp-content-font-color1, black)));\n",
              "  --sklearn-color-icon: #696969;\n",
              "\n",
              "  @media (prefers-color-scheme: dark) {\n",
              "    /* Redefinition of color scheme for dark theme */\n",
              "    --sklearn-color-text-on-default-background: var(--sg-text-color, var(--theme-code-foreground, var(--jp-content-font-color1, white)));\n",
              "    --sklearn-color-background: var(--sg-background-color, var(--theme-background, var(--jp-layout-color0, #111)));\n",
              "    --sklearn-color-border-box: var(--sg-text-color, var(--theme-code-foreground, var(--jp-content-font-color1, white)));\n",
              "    --sklearn-color-icon: #878787;\n",
              "  }\n",
              "}\n",
              "\n",
              "#sk-container-id-1 {\n",
              "  color: var(--sklearn-color-text);\n",
              "}\n",
              "\n",
              "#sk-container-id-1 pre {\n",
              "  padding: 0;\n",
              "}\n",
              "\n",
              "#sk-container-id-1 input.sk-hidden--visually {\n",
              "  border: 0;\n",
              "  clip: rect(1px 1px 1px 1px);\n",
              "  clip: rect(1px, 1px, 1px, 1px);\n",
              "  height: 1px;\n",
              "  margin: -1px;\n",
              "  overflow: hidden;\n",
              "  padding: 0;\n",
              "  position: absolute;\n",
              "  width: 1px;\n",
              "}\n",
              "\n",
              "#sk-container-id-1 div.sk-dashed-wrapped {\n",
              "  border: 1px dashed var(--sklearn-color-line);\n",
              "  margin: 0 0.4em 0.5em 0.4em;\n",
              "  box-sizing: border-box;\n",
              "  padding-bottom: 0.4em;\n",
              "  background-color: var(--sklearn-color-background);\n",
              "}\n",
              "\n",
              "#sk-container-id-1 div.sk-container {\n",
              "  /* jupyter's `normalize.less` sets `[hidden] { display: none; }`\n",
              "     but bootstrap.min.css set `[hidden] { display: none !important; }`\n",
              "     so we also need the `!important` here to be able to override the\n",
              "     default hidden behavior on the sphinx rendered scikit-learn.org.\n",
              "     See: https://github.com/scikit-learn/scikit-learn/issues/21755 */\n",
              "  display: inline-block !important;\n",
              "  position: relative;\n",
              "}\n",
              "\n",
              "#sk-container-id-1 div.sk-text-repr-fallback {\n",
              "  display: none;\n",
              "}\n",
              "\n",
              "div.sk-parallel-item,\n",
              "div.sk-serial,\n",
              "div.sk-item {\n",
              "  /* draw centered vertical line to link estimators */\n",
              "  background-image: linear-gradient(var(--sklearn-color-text-on-default-background), var(--sklearn-color-text-on-default-background));\n",
              "  background-size: 2px 100%;\n",
              "  background-repeat: no-repeat;\n",
              "  background-position: center center;\n",
              "}\n",
              "\n",
              "/* Parallel-specific style estimator block */\n",
              "\n",
              "#sk-container-id-1 div.sk-parallel-item::after {\n",
              "  content: \"\";\n",
              "  width: 100%;\n",
              "  border-bottom: 2px solid var(--sklearn-color-text-on-default-background);\n",
              "  flex-grow: 1;\n",
              "}\n",
              "\n",
              "#sk-container-id-1 div.sk-parallel {\n",
              "  display: flex;\n",
              "  align-items: stretch;\n",
              "  justify-content: center;\n",
              "  background-color: var(--sklearn-color-background);\n",
              "  position: relative;\n",
              "}\n",
              "\n",
              "#sk-container-id-1 div.sk-parallel-item {\n",
              "  display: flex;\n",
              "  flex-direction: column;\n",
              "}\n",
              "\n",
              "#sk-container-id-1 div.sk-parallel-item:first-child::after {\n",
              "  align-self: flex-end;\n",
              "  width: 50%;\n",
              "}\n",
              "\n",
              "#sk-container-id-1 div.sk-parallel-item:last-child::after {\n",
              "  align-self: flex-start;\n",
              "  width: 50%;\n",
              "}\n",
              "\n",
              "#sk-container-id-1 div.sk-parallel-item:only-child::after {\n",
              "  width: 0;\n",
              "}\n",
              "\n",
              "/* Serial-specific style estimator block */\n",
              "\n",
              "#sk-container-id-1 div.sk-serial {\n",
              "  display: flex;\n",
              "  flex-direction: column;\n",
              "  align-items: center;\n",
              "  background-color: var(--sklearn-color-background);\n",
              "  padding-right: 1em;\n",
              "  padding-left: 1em;\n",
              "}\n",
              "\n",
              "\n",
              "/* Toggleable style: style used for estimator/Pipeline/ColumnTransformer box that is\n",
              "clickable and can be expanded/collapsed.\n",
              "- Pipeline and ColumnTransformer use this feature and define the default style\n",
              "- Estimators will overwrite some part of the style using the `sk-estimator` class\n",
              "*/\n",
              "\n",
              "/* Pipeline and ColumnTransformer style (default) */\n",
              "\n",
              "#sk-container-id-1 div.sk-toggleable {\n",
              "  /* Default theme specific background. It is overwritten whether we have a\n",
              "  specific estimator or a Pipeline/ColumnTransformer */\n",
              "  background-color: var(--sklearn-color-background);\n",
              "}\n",
              "\n",
              "/* Toggleable label */\n",
              "#sk-container-id-1 label.sk-toggleable__label {\n",
              "  cursor: pointer;\n",
              "  display: flex;\n",
              "  width: 100%;\n",
              "  margin-bottom: 0;\n",
              "  padding: 0.5em;\n",
              "  box-sizing: border-box;\n",
              "  text-align: center;\n",
              "  align-items: start;\n",
              "  justify-content: space-between;\n",
              "  gap: 0.5em;\n",
              "}\n",
              "\n",
              "#sk-container-id-1 label.sk-toggleable__label .caption {\n",
              "  font-size: 0.6rem;\n",
              "  font-weight: lighter;\n",
              "  color: var(--sklearn-color-text-muted);\n",
              "}\n",
              "\n",
              "#sk-container-id-1 label.sk-toggleable__label-arrow:before {\n",
              "  /* Arrow on the left of the label */\n",
              "  content: \"▸\";\n",
              "  float: left;\n",
              "  margin-right: 0.25em;\n",
              "  color: var(--sklearn-color-icon);\n",
              "}\n",
              "\n",
              "#sk-container-id-1 label.sk-toggleable__label-arrow:hover:before {\n",
              "  color: var(--sklearn-color-text);\n",
              "}\n",
              "\n",
              "/* Toggleable content - dropdown */\n",
              "\n",
              "#sk-container-id-1 div.sk-toggleable__content {\n",
              "  max-height: 0;\n",
              "  max-width: 0;\n",
              "  overflow: hidden;\n",
              "  text-align: left;\n",
              "  /* unfitted */\n",
              "  background-color: var(--sklearn-color-unfitted-level-0);\n",
              "}\n",
              "\n",
              "#sk-container-id-1 div.sk-toggleable__content.fitted {\n",
              "  /* fitted */\n",
              "  background-color: var(--sklearn-color-fitted-level-0);\n",
              "}\n",
              "\n",
              "#sk-container-id-1 div.sk-toggleable__content pre {\n",
              "  margin: 0.2em;\n",
              "  border-radius: 0.25em;\n",
              "  color: var(--sklearn-color-text);\n",
              "  /* unfitted */\n",
              "  background-color: var(--sklearn-color-unfitted-level-0);\n",
              "}\n",
              "\n",
              "#sk-container-id-1 div.sk-toggleable__content.fitted pre {\n",
              "  /* unfitted */\n",
              "  background-color: var(--sklearn-color-fitted-level-0);\n",
              "}\n",
              "\n",
              "#sk-container-id-1 input.sk-toggleable__control:checked~div.sk-toggleable__content {\n",
              "  /* Expand drop-down */\n",
              "  max-height: 200px;\n",
              "  max-width: 100%;\n",
              "  overflow: auto;\n",
              "}\n",
              "\n",
              "#sk-container-id-1 input.sk-toggleable__control:checked~label.sk-toggleable__label-arrow:before {\n",
              "  content: \"▾\";\n",
              "}\n",
              "\n",
              "/* Pipeline/ColumnTransformer-specific style */\n",
              "\n",
              "#sk-container-id-1 div.sk-label input.sk-toggleable__control:checked~label.sk-toggleable__label {\n",
              "  color: var(--sklearn-color-text);\n",
              "  background-color: var(--sklearn-color-unfitted-level-2);\n",
              "}\n",
              "\n",
              "#sk-container-id-1 div.sk-label.fitted input.sk-toggleable__control:checked~label.sk-toggleable__label {\n",
              "  background-color: var(--sklearn-color-fitted-level-2);\n",
              "}\n",
              "\n",
              "/* Estimator-specific style */\n",
              "\n",
              "/* Colorize estimator box */\n",
              "#sk-container-id-1 div.sk-estimator input.sk-toggleable__control:checked~label.sk-toggleable__label {\n",
              "  /* unfitted */\n",
              "  background-color: var(--sklearn-color-unfitted-level-2);\n",
              "}\n",
              "\n",
              "#sk-container-id-1 div.sk-estimator.fitted input.sk-toggleable__control:checked~label.sk-toggleable__label {\n",
              "  /* fitted */\n",
              "  background-color: var(--sklearn-color-fitted-level-2);\n",
              "}\n",
              "\n",
              "#sk-container-id-1 div.sk-label label.sk-toggleable__label,\n",
              "#sk-container-id-1 div.sk-label label {\n",
              "  /* The background is the default theme color */\n",
              "  color: var(--sklearn-color-text-on-default-background);\n",
              "}\n",
              "\n",
              "/* On hover, darken the color of the background */\n",
              "#sk-container-id-1 div.sk-label:hover label.sk-toggleable__label {\n",
              "  color: var(--sklearn-color-text);\n",
              "  background-color: var(--sklearn-color-unfitted-level-2);\n",
              "}\n",
              "\n",
              "/* Label box, darken color on hover, fitted */\n",
              "#sk-container-id-1 div.sk-label.fitted:hover label.sk-toggleable__label.fitted {\n",
              "  color: var(--sklearn-color-text);\n",
              "  background-color: var(--sklearn-color-fitted-level-2);\n",
              "}\n",
              "\n",
              "/* Estimator label */\n",
              "\n",
              "#sk-container-id-1 div.sk-label label {\n",
              "  font-family: monospace;\n",
              "  font-weight: bold;\n",
              "  display: inline-block;\n",
              "  line-height: 1.2em;\n",
              "}\n",
              "\n",
              "#sk-container-id-1 div.sk-label-container {\n",
              "  text-align: center;\n",
              "}\n",
              "\n",
              "/* Estimator-specific */\n",
              "#sk-container-id-1 div.sk-estimator {\n",
              "  font-family: monospace;\n",
              "  border: 1px dotted var(--sklearn-color-border-box);\n",
              "  border-radius: 0.25em;\n",
              "  box-sizing: border-box;\n",
              "  margin-bottom: 0.5em;\n",
              "  /* unfitted */\n",
              "  background-color: var(--sklearn-color-unfitted-level-0);\n",
              "}\n",
              "\n",
              "#sk-container-id-1 div.sk-estimator.fitted {\n",
              "  /* fitted */\n",
              "  background-color: var(--sklearn-color-fitted-level-0);\n",
              "}\n",
              "\n",
              "/* on hover */\n",
              "#sk-container-id-1 div.sk-estimator:hover {\n",
              "  /* unfitted */\n",
              "  background-color: var(--sklearn-color-unfitted-level-2);\n",
              "}\n",
              "\n",
              "#sk-container-id-1 div.sk-estimator.fitted:hover {\n",
              "  /* fitted */\n",
              "  background-color: var(--sklearn-color-fitted-level-2);\n",
              "}\n",
              "\n",
              "/* Specification for estimator info (e.g. \"i\" and \"?\") */\n",
              "\n",
              "/* Common style for \"i\" and \"?\" */\n",
              "\n",
              ".sk-estimator-doc-link,\n",
              "a:link.sk-estimator-doc-link,\n",
              "a:visited.sk-estimator-doc-link {\n",
              "  float: right;\n",
              "  font-size: smaller;\n",
              "  line-height: 1em;\n",
              "  font-family: monospace;\n",
              "  background-color: var(--sklearn-color-background);\n",
              "  border-radius: 1em;\n",
              "  height: 1em;\n",
              "  width: 1em;\n",
              "  text-decoration: none !important;\n",
              "  margin-left: 0.5em;\n",
              "  text-align: center;\n",
              "  /* unfitted */\n",
              "  border: var(--sklearn-color-unfitted-level-1) 1pt solid;\n",
              "  color: var(--sklearn-color-unfitted-level-1);\n",
              "}\n",
              "\n",
              ".sk-estimator-doc-link.fitted,\n",
              "a:link.sk-estimator-doc-link.fitted,\n",
              "a:visited.sk-estimator-doc-link.fitted {\n",
              "  /* fitted */\n",
              "  border: var(--sklearn-color-fitted-level-1) 1pt solid;\n",
              "  color: var(--sklearn-color-fitted-level-1);\n",
              "}\n",
              "\n",
              "/* On hover */\n",
              "div.sk-estimator:hover .sk-estimator-doc-link:hover,\n",
              ".sk-estimator-doc-link:hover,\n",
              "div.sk-label-container:hover .sk-estimator-doc-link:hover,\n",
              ".sk-estimator-doc-link:hover {\n",
              "  /* unfitted */\n",
              "  background-color: var(--sklearn-color-unfitted-level-3);\n",
              "  color: var(--sklearn-color-background);\n",
              "  text-decoration: none;\n",
              "}\n",
              "\n",
              "div.sk-estimator.fitted:hover .sk-estimator-doc-link.fitted:hover,\n",
              ".sk-estimator-doc-link.fitted:hover,\n",
              "div.sk-label-container:hover .sk-estimator-doc-link.fitted:hover,\n",
              ".sk-estimator-doc-link.fitted:hover {\n",
              "  /* fitted */\n",
              "  background-color: var(--sklearn-color-fitted-level-3);\n",
              "  color: var(--sklearn-color-background);\n",
              "  text-decoration: none;\n",
              "}\n",
              "\n",
              "/* Span, style for the box shown on hovering the info icon */\n",
              ".sk-estimator-doc-link span {\n",
              "  display: none;\n",
              "  z-index: 9999;\n",
              "  position: relative;\n",
              "  font-weight: normal;\n",
              "  right: .2ex;\n",
              "  padding: .5ex;\n",
              "  margin: .5ex;\n",
              "  width: min-content;\n",
              "  min-width: 20ex;\n",
              "  max-width: 50ex;\n",
              "  color: var(--sklearn-color-text);\n",
              "  box-shadow: 2pt 2pt 4pt #999;\n",
              "  /* unfitted */\n",
              "  background: var(--sklearn-color-unfitted-level-0);\n",
              "  border: .5pt solid var(--sklearn-color-unfitted-level-3);\n",
              "}\n",
              "\n",
              ".sk-estimator-doc-link.fitted span {\n",
              "  /* fitted */\n",
              "  background: var(--sklearn-color-fitted-level-0);\n",
              "  border: var(--sklearn-color-fitted-level-3);\n",
              "}\n",
              "\n",
              ".sk-estimator-doc-link:hover span {\n",
              "  display: block;\n",
              "}\n",
              "\n",
              "/* \"?\"-specific style due to the `<a>` HTML tag */\n",
              "\n",
              "#sk-container-id-1 a.estimator_doc_link {\n",
              "  float: right;\n",
              "  font-size: 1rem;\n",
              "  line-height: 1em;\n",
              "  font-family: monospace;\n",
              "  background-color: var(--sklearn-color-background);\n",
              "  border-radius: 1rem;\n",
              "  height: 1rem;\n",
              "  width: 1rem;\n",
              "  text-decoration: none;\n",
              "  /* unfitted */\n",
              "  color: var(--sklearn-color-unfitted-level-1);\n",
              "  border: var(--sklearn-color-unfitted-level-1) 1pt solid;\n",
              "}\n",
              "\n",
              "#sk-container-id-1 a.estimator_doc_link.fitted {\n",
              "  /* fitted */\n",
              "  border: var(--sklearn-color-fitted-level-1) 1pt solid;\n",
              "  color: var(--sklearn-color-fitted-level-1);\n",
              "}\n",
              "\n",
              "/* On hover */\n",
              "#sk-container-id-1 a.estimator_doc_link:hover {\n",
              "  /* unfitted */\n",
              "  background-color: var(--sklearn-color-unfitted-level-3);\n",
              "  color: var(--sklearn-color-background);\n",
              "  text-decoration: none;\n",
              "}\n",
              "\n",
              "#sk-container-id-1 a.estimator_doc_link.fitted:hover {\n",
              "  /* fitted */\n",
              "  background-color: var(--sklearn-color-fitted-level-3);\n",
              "}\n",
              "</style><div id=\"sk-container-id-1\" class=\"sk-top-container\"><div class=\"sk-text-repr-fallback\"><pre>RandomForestClassifier(random_state=42)</pre><b>In a Jupyter environment, please rerun this cell to show the HTML representation or trust the notebook. <br />On GitHub, the HTML representation is unable to render, please try loading this page with nbviewer.org.</b></div><div class=\"sk-container\" hidden><div class=\"sk-item\"><div class=\"sk-estimator fitted sk-toggleable\"><input class=\"sk-toggleable__control sk-hidden--visually\" id=\"sk-estimator-id-1\" type=\"checkbox\" checked><label for=\"sk-estimator-id-1\" class=\"sk-toggleable__label fitted sk-toggleable__label-arrow\"><div><div>RandomForestClassifier</div></div><div><a class=\"sk-estimator-doc-link fitted\" rel=\"noreferrer\" target=\"_blank\" href=\"https://scikit-learn.org/1.6/modules/generated/sklearn.ensemble.RandomForestClassifier.html\">?<span>Documentation for RandomForestClassifier</span></a><span class=\"sk-estimator-doc-link fitted\">i<span>Fitted</span></span></div></label><div class=\"sk-toggleable__content fitted\"><pre>RandomForestClassifier(random_state=42)</pre></div> </div></div></div></div>"
            ]
          },
          "metadata": {},
          "execution_count": 66
        }
      ]
    },
    {
      "cell_type": "markdown",
      "source": [
        "**d. Berapa nilai evaluasi dari masing-masing model pada data uji? Apa arti dari masing-masing metrik evaluasi tersebut?**"
      ],
      "metadata": {
        "id": "jnKhb09UxG9G"
      }
    },
    {
      "cell_type": "code",
      "source": [
        "from sklearn.metrics import classification_report\n",
        "\n",
        "# Prediksi\n",
        "y_pred_log = log_reg.predict(X_test)\n",
        "y_pred_tree = tree.predict(X_test)\n",
        "y_pred_forest = forest.predict(X_test)\n",
        "\n",
        "# Evaluasi\n",
        "print(\"Logistic Regression:\")\n",
        "print(classification_report(y_test, y_pred_log))\n",
        "\n",
        "print(\"Decision Tree:\")\n",
        "print(classification_report(y_test, y_pred_tree))\n",
        "\n",
        "print(\"Random Forest:\")\n",
        "print(classification_report(y_test, y_pred_forest))\n"
      ],
      "metadata": {
        "colab": {
          "base_uri": "https://localhost:8080/"
        },
        "id": "ROVVNWOlvsjk",
        "outputId": "aec29b4a-c96b-4cb6-9ca1-c9d58ffb6a63"
      },
      "execution_count": 67,
      "outputs": [
        {
          "output_type": "stream",
          "name": "stdout",
          "text": [
            "Logistic Regression:\n",
            "              precision    recall  f1-score   support\n",
            "\n",
            "           0       0.82      0.86      0.84       105\n",
            "           1       0.78      0.73      0.76        74\n",
            "\n",
            "    accuracy                           0.80       179\n",
            "   macro avg       0.80      0.79      0.80       179\n",
            "weighted avg       0.80      0.80      0.80       179\n",
            "\n",
            "Decision Tree:\n",
            "              precision    recall  f1-score   support\n",
            "\n",
            "           0       0.81      0.82      0.82       105\n",
            "           1       0.74      0.73      0.73        74\n",
            "\n",
            "    accuracy                           0.78       179\n",
            "   macro avg       0.78      0.77      0.77       179\n",
            "weighted avg       0.78      0.78      0.78       179\n",
            "\n",
            "Random Forest:\n",
            "              precision    recall  f1-score   support\n",
            "\n",
            "           0       0.83      0.86      0.84       105\n",
            "           1       0.79      0.74      0.76        74\n",
            "\n",
            "    accuracy                           0.81       179\n",
            "   macro avg       0.81      0.80      0.80       179\n",
            "weighted avg       0.81      0.81      0.81       179\n",
            "\n"
          ]
        }
      ]
    },
    {
      "cell_type": "markdown",
      "source": [
        "Nilai Evaluasi dari masing-masing data uji\n",
        "\n",
        "**Logistic Regression**\n",
        "\n",
        "Accuracy\t80%\n",
        "\n",
        "Precision (0)\t82%\n",
        "\n",
        "Recall (0)\t86%\n",
        "\n",
        "F1-Score (0)\t84%\n",
        "\n",
        "Precision (1)\t78%\n",
        "\n",
        "Recall (1)\t73%\n",
        "\n",
        "F1-Score (1)\t76%\n",
        "\n",
        "\n",
        "**Decision Tree**\n",
        "\n",
        "Accuracy\t78%\n",
        "\n",
        "Precision (0)\t81%\n",
        "\n",
        "Recall (0)\t82%\n",
        "\n",
        "F1-Score (0)\t82%\n",
        "\n",
        "Precision (1)\t74%\n",
        "\n",
        "Recall (1)\t73%\n",
        "\n",
        "F1-Score (1)\t73%\n",
        "\n",
        "\n",
        "**Random Forest**\n",
        "\n",
        "Accuracy\t81%\n",
        "\n",
        "Precision (0)\t83%\n",
        "\n",
        "Recall (0)\t86%\n",
        "\n",
        "F1-Score (0)\t84%\n",
        "\n",
        "Precision (1)\t79%\n",
        "\n",
        "Recall (1)\t74%\n",
        "\n",
        "F1-Score (1)\t76%"
      ],
      "metadata": {
        "id": "NPb0vtkS0NMR"
      }
    },
    {
      "cell_type": "markdown",
      "source": [
        "1. Accuracy berarti\tpersentase prediksi yang benar dibandingkan seluruh data uji. Semakin tinggi, semakin baik.\n",
        "\n",
        "2. Precision\tberarti dari semua prediksi positif, berapa persen yang benar-benar positif. Fokus pada \"seberapa akurat model saat mengatakan 'positif'.\"\n",
        "\n",
        "3. Recall\tberarti dari semua kasus positif sebenarnya, berapa persen yang berhasil ditemukan oleh model. Fokus pada \"seberapa banyak kasus positif berhasil ditangkap.\"\n",
        "\n",
        "4. F1-Score\tberarti rata-rata harmonik dari Precision dan Recall. Memberikan keseimbangan jika data tidak seimbang. F1 tinggi berarti Precision dan Recall sama-sama bagus."
      ],
      "metadata": {
        "id": "9iQAKLOHzSzW"
      }
    },
    {
      "cell_type": "markdown",
      "source": [
        "**e. Bandingkan hasil dari ketiga algoritma tersebut. Mana yang paling bagus? Berikan ulasan kira-kira apa yang menyebabkan metode tersebut dapat memprediksi dataset dengan baik**"
      ],
      "metadata": {
        "id": "UbJbU3pE0chi"
      }
    },
    {
      "cell_type": "markdown",
      "source": [
        "Berdasarkan hasil evaluasi terhadap data uji:\n",
        "\n",
        "1. Random Forest menghasilkan performa terbaik dengan accuracy sebesar 81%, sedikit lebih tinggi dibanding Logistic Regression (80%) dan Decision Tree (78%).\n",
        "\n",
        "2. Precision dan Recall pada Random Forest untuk kelas \"tidak selamat\" (kelas 0) cukup tinggi, masing-masing 83% dan 86%.\n",
        "\n",
        "3. Untuk kelas \"selamat\" (kelas 1), meskipun Recall sedikit lebih rendah (74%), Precision masih cukup baik (79%).\n",
        "\n",
        "4. F1-Score pada Random Forest juga lebih seimbang dibandingkan model lainnya, menunjukkan keseimbangan antara Precision dan Recall"
      ],
      "metadata": {
        "id": "ul4uN2F9xPm2"
      }
    },
    {
      "cell_type": "markdown",
      "source": [
        "Dari evaluasi tersebut, dapat disimpulkan bahwa:\n",
        "\n",
        "Random Forest merupakan model yang paling optimal dalam memprediksi kemungkinan keselamatan penumpang Titanic berdasarkan data uji. Hal ini disebabkan oleh sifat Random Forest yang menggabungkan banyak Decision Tree, sehingga lebih tahan terhadap overfitting dan lebih mampu mengenali pola-pola kompleks dalam data."
      ],
      "metadata": {
        "id": "kgzOq1vuyqno"
      }
    },
    {
      "cell_type": "markdown",
      "source": [
        "# **4. Evaluasi**"
      ],
      "metadata": {
        "id": "DYFdLn1R1VeQ"
      }
    },
    {
      "cell_type": "markdown",
      "source": [
        "**a. Berdasarkan classification report model terbaik, berapa nilai precision dan recall untuk prediksi penumpang yang \"selamat\"?**"
      ],
      "metadata": {
        "id": "S_VdRm8R5UE6"
      }
    },
    {
      "cell_type": "markdown",
      "source": [
        "Berdasarkan hasil classification report untuk model Random Forest:\n",
        "\n",
        "1. Precision untuk penumpang \"selamat\" (kelas 1) = 79%\n",
        "\n",
        "2. Recall untuk penumpang \"selamat\" (kelas 1) = 74%\n",
        "\n",
        "Artinya:\n",
        "\n",
        "1. Dari semua penumpang yang diprediksi \"selamat\" oleh model, 79% benar-benar selamat.\n",
        "\n",
        "2. Dari semua penumpang yang benar-benar \"selamat\" dalam data uji, 74% berhasil ditemukan (diprediksi dengan benar) oleh model."
      ],
      "metadata": {
        "id": "IspCTc0W5YzS"
      }
    },
    {
      "cell_type": "markdown",
      "source": [
        "**b. Berapa banyak penumpang yang diprediksi selamat, dan berapa di antaranya benar-benar selamat?**"
      ],
      "metadata": {
        "id": "Q7IWR3Xr58uh"
      }
    },
    {
      "cell_type": "code",
      "source": [
        "from sklearn.metrics import classification_report, accuracy_score, confusion_matrix\n",
        "best_model_name = \"Random Forest\"\n",
        "\n",
        "print(f\"Model terbaik adalah: {best_model_name}\")\n",
        "print(classification_report(y_test, y_pred_forest))\n",
        "print(\"Accuracy:\", accuracy_score(y_test, y_pred_forest))\n",
        "# Cek berapa banyak yang diprediksi selamat dan yang benar-benar selamat\n",
        "predicted_selamat = (y_pred_forest == 1).sum()\n",
        "benar_selamat = ((y_pred_forest == 1) & (y_test == 1)).sum()\n",
        "\n",
        "print(f\"\\nJumlah penumpang diprediksi selamat: {predicted_selamat}\")\n",
        "print(f\"Jumlah yang benar-benar selamat dari prediksi tersebut: {benar_selamat}\")\n",
        "\n",
        "# Visualisasi Confusion Matrix\n",
        "import seaborn as sns\n",
        "import matplotlib.pyplot as plt\n",
        "\n",
        "cm = confusion_matrix(y_test, y_pred_forest)\n",
        "sns.heatmap(cm, annot=True, fmt=\"d\", cmap=\"Blues\")\n",
        "plt.title(\"Confusion Matrix - Random Forest\")\n",
        "plt.xlabel(\"Predicted\")\n",
        "plt.ylabel(\"Actual\")\n",
        "plt.show()"
      ],
      "metadata": {
        "colab": {
          "base_uri": "https://localhost:8080/",
          "height": 725
        },
        "id": "U4A5_60X4V5O",
        "outputId": "fd633c7a-57f9-40a6-c3d5-85116b122b6a"
      },
      "execution_count": 70,
      "outputs": [
        {
          "output_type": "stream",
          "name": "stdout",
          "text": [
            "Model terbaik adalah: Random Forest\n",
            "              precision    recall  f1-score   support\n",
            "\n",
            "           0       0.83      0.86      0.84       105\n",
            "           1       0.79      0.74      0.76        74\n",
            "\n",
            "    accuracy                           0.81       179\n",
            "   macro avg       0.81      0.80      0.80       179\n",
            "weighted avg       0.81      0.81      0.81       179\n",
            "\n",
            "Accuracy: 0.8100558659217877\n",
            "\n",
            "Jumlah penumpang diprediksi selamat: 70\n",
            "Jumlah yang benar-benar selamat dari prediksi tersebut: 55\n"
          ]
        },
        {
          "output_type": "display_data",
          "data": {
            "text/plain": [
              "<Figure size 640x480 with 2 Axes>"
            ],
            "image/png": "[encoded data removed]"
          },
          "metadata": {}
        }
      ]
    },
    {
      "cell_type": "markdown",
      "source": [
        "Jumlah penumpang yang diprediksi selamat: 70 orang\n",
        "\n",
        "Dari 70 orang tersebut, yang benar-benar selamat: 55 orang."
      ],
      "metadata": {
        "id": "APW4VQfV7Iba"
      }
    }
  ]
}